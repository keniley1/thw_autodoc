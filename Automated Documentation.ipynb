{
 "cells": [
  {
   "cell_type": "markdown",
   "metadata": {},
   "source": [
    "# Documentation\n",
    "\n",
    "#### Adapted in part from [THW Berkeley](https://github.com/thehackerwithin/berkeley/tree/master/code_examples/documentation) and [Professor Huff's book](https://proquest.safaribooksonline.com/9781491901564).\n",
    "\n",
    "Documenting your code is important! Good documentation ensures that the function of each piece of code is understood - not just by other people, but by you as well! (Try reading 800 lines of uncommented code that you wrote and forgot about 15 months ago. You'll see what I mean.)\n",
    "\n",
    "Treat documentation as the **only way you will ever interact with people who use your code**. You are going to graduate, change projects, give up on research and join the circus, or otherwise move on with your life. You cannot expect to be available to explain your terrible, sloppy code forever. \n",
    "\n",
    "#### Types of documentation:\n",
    "1. Comments\n",
    "2. API\n",
    "3. Auto documentation\n",
    "\n",
    "There are obviously other forms documentation can take - user guides, readmes, etc. But we'll focus on these for today.\n",
    "\n",
    "\n",
    "## Comments\n",
    "Code languages include some kind of character, or characters, that tells the compiler, interpreter, etc. to ignore what follows. This is convenient for explaining small lines or functions, or to elaborate on what may otherwise be a hard to understand chunk of code. \n",
    "1. C/C++: \n",
    "    * /\\* This is a C/C++ comment \\*/\n",
    "    * // This is also a C/C++ comment\n",
    "2. Python: \n",
    "    * \\# This is a python comment\n",
    "3. Fortran:\n",
    "    * ! This is a FORTRAN comment"
   ]
  },
  {
   "cell_type": "code",
   "execution_count": 30,
   "metadata": {},
   "outputs": [
    {
     "name": "stdout",
     "output_type": "stream",
     "text": [
      "My awesome method:  1158.68977729\n",
      "Boring math method: 1158.68977729\n"
     ]
    }
   ],
   "source": [
    "from math import sqrt\n",
    "\n",
    "def square_root(val, tol=1e-4):\n",
    "    \n",
    "    # Define the initial guess and initialize the new guess and counter variables\n",
    "    guess = val*0.5\n",
    "    guess_new = 0.01\n",
    "    counter = 0\n",
    "    \n",
    "    # Execute \"Newton's\" algorithm for calculating the square root\n",
    "    # If the guess is too big, then the mean of the guess and the value (val/guess)\n",
    "    # must be closer to the mean.\n",
    "    while (abs((guess-guess_new)/guess_new) > tol):\n",
    "        # Update the current guess to the newer value as the loop proceeds\n",
    "        if (counter>0):\n",
    "            guess = guess_new\n",
    "        \n",
    "        guess_new = 0.5*(guess + val/guess)\n",
    "        counter = counter + 1\n",
    "    return guess_new\n",
    "\n",
    "print(\"My awesome method:  \" + str(square_root(1342562)))\n",
    "print(\"Boring math method: \" + str(sqrt(1342562)))\n",
    "\n"
   ]
  },
  {
   "cell_type": "markdown",
   "metadata": {},
   "source": [
    "## Application Programming Interface (API)\n",
    "\n",
    "\"The application programming interface (API) is the definition of the protocol that two pieces of code may use to interact with one another.\" [[THW Berkeley]](https://github.com/thehackerwithin/berkeley/blob/master/code_examples/documentation/documentation.ipynb). For functions, the number of inputs and the values they return constitute the API. But this idea can be taken further! Python in particular allows a user to define **docstrings**. A docstring is an unassigned string literal that is placed after a function declaration *before other operations in the body*. It can be used to briefly explain the purpose of the function, list input/output formats, and give examples of usage. "
   ]
  },
  {
   "cell_type": "code",
   "execution_count": 28,
   "metadata": {},
   "outputs": [
    {
     "data": {
      "text/plain": [
       "3.5"
      ]
     },
     "execution_count": 28,
     "metadata": {},
     "output_type": "execute_result"
    }
   ],
   "source": [
    "def mean_val(a, b):\n",
    "    \"\"\" \n",
    "    This function returns the mean of arguments a and b.\n",
    "    \n",
    "    Example: \n",
    "    avg = mean_val(2, 5)\n",
    "    Returns: 3.5\n",
    "    \"\"\"\n",
    "    return 0.5*(a + b)\n",
    "\n",
    "mean_val(2,5)"
   ]
  },
  {
   "cell_type": "markdown",
   "metadata": {},
   "source": [
    "Docstrings may be accessed by using python's built-in \"help()\" function:"
   ]
  },
  {
   "cell_type": "code",
   "execution_count": 14,
   "metadata": {},
   "outputs": [
    {
     "name": "stdout",
     "output_type": "stream",
     "text": [
      "Help on function mean_val in module __main__:\n",
      "\n",
      "mean_val(a, b)\n",
      "    This function returns the mean of arguments a and b.\n",
      "    \n",
      "    Example: \n",
      "    avg = mean_val(2, 5)\n",
      "    Returns: 3.5\n",
      "\n"
     ]
    }
   ],
   "source": [
    "help(mean_val)"
   ]
  },
  {
   "cell_type": "markdown",
   "metadata": {},
   "source": [
    "## Automated Documentation \n",
    "\n",
    "Comments and docstrings are already useful on their own: they provide a simple, concise way of keeping a code understandable. However, when comments and dosctrings are properly constructed they become even more powerful with the use of **automation**, which essentially scrapes the comments and docstrings from your code and generates interactive documentation. There are packages available for most (all?) languages. Shamelessly stealing a convenient table from [Chapter 19 of Prof. Huff's book](https://proquest.safaribooksonline.com/9781491901564) which lists some of the most well-known documentation tools:\n",
    "\n",
    "| **Name**    | **Description**                                               |\n",
    "|:------------|:-------------------------------------------------------------:|\n",
    "| *Doxygen*   |  Supports marked-up comments, created for C++                 |\n",
    "| *Javadoc*   |  Supports marked-up comments, created for Java                |\n",
    "| *Pandoc*    |  Supports Markdown, reStructuredText, LaTeX, HTML, and others |\n",
    "| *Sphinx*    |  Standard Python system; supports reStructuredText            |\n",
    "\n",
    "\n",
    "This tutorial will focus on Sphinx because I like Python.\n",
    "\n",
    "### Using Sphinx\n",
    "\n",
    "Sphinx is included in most basic Python installations (Anaconda, Canopy). To illustrate its usage, a simple module 'test_functions' is included on this git repository (src/ directory) along with its documentation! Both the square_root() and mean_val() functions are included in the module. (Note that this is not a good module; there is no __init__ routine, for example!)\n",
    "\n",
    "Sphinx includes a quickstart utility to automatically build the necessary directories and files.\n",
    "\n",
    "``` bash\n",
    "sphinx-quickstart\n",
    "```\n",
    "\n",
    "API documentation is also available (also shamelessly stolen, this time from a [previous THW discussion](https://github.com/thehackerwithin/illinois/blob/master/sphinx/sphinx.pdf)): \n",
    "\n",
    "``` bash\n",
    "sphinx-apidoc -A \"MyName\" -F -o docs src/\n",
    "```\n",
    "\n",
    "This will build a docs/ directory with the following: \n",
    "* conf.py - Sphinx's configuration file\n",
    "* .rst files - holds user guides or theory manual content\n",
    "* Makefile - used to build .html or .pdf documentation files!\n",
    "\n",
    "### Quickstart\n",
    "\n",
    "If you run quickstart, you will be prompted with a series of questions to initialize your project documentation. Be sure to select \"yes\" for both the autodoc and Makefile suggestions. If you select **yes** to the option to have the source and build files in separate directories, your project structure will look something like this: \n",
    "\n",
    "\n",
    "\n",
    "Several edits will need to be made to the source files: \n",
    "\n",
    "##### Add project path to conf.py file\n",
    "The quickstart utility may not necessarily add the correct path to your project. This can be rectified by uncommenting the following lines: \n",
    "\n",
    "``` python\n",
    "import os\n",
    "import sys\n",
    "sys.path.insert(0, os.path.abspath('.'))\n",
    "```\n",
    "\n",
    "In this case, the proper directory is simply '../../src'.\n",
    "\n",
    "##### Create an .rst file for your module\n",
    "For the purposes of this \"project\", I've named the \"module\" test_functions. The test_functions.rst file will look like this:\n",
    "\n",
    "```\n",
    "test\\_functions module\n",
    "======================\n",
    "\n",
    ".. automodule:: test_functions\n",
    "    :members:\n",
    "    :undoc-members:\n",
    "    :show-inheritance:\n",
    "```\n",
    "\n",
    "##### Add module(s) to your rst file\n",
    "An \"index.rst\" file also exists. The only edit that needs to me made is adding your module to the \"toctree\" in index.rst: \n",
    "\n",
    "```\n",
    ".. Sphinx Basics documentation master file, created by\n",
    "   sphinx-quickstart on Wed Oct 17 09:26:27 2018.\n",
    "   You can adapt this file completely to your liking, but it should at least\n",
    "   contain the root `toctree` directive.\n",
    "\n",
    "Welcome to Sphinx Basics's documentation!\n",
    "=========================================\n",
    "\n",
    ".. toctree::\n",
    "   :maxdepth: 2\n",
    "   :caption: Contents:\n",
    "\n",
    "   test_functions\n",
    "\n",
    "Indices and tables\n",
    "==================\n",
    "\n",
    "* :ref:`genindex`\n",
    "* :ref:`modindex`\n",
    "* :ref:`search`\n",
    "```\n",
    "\n",
    "### Creating Documentation\n",
    "\n",
    "Once sphinx has completed its build and you've made the proper edits, you can navigate to the docs directory you designated and use the Makefile: \n",
    "\n",
    "``` bash\n",
    "cd docs\n",
    "make html\n",
    "```\n",
    "\n",
    "This will create a subfolder with your html build: \\_build/html.  ``` make html``` may now be run any time you update your module. \n",
    "\n",
    "### Sphinx Syntax\n",
    "\n",
    "Sphinx uses [RST syntax](). Here's an example using the square_root() function shown earlier! "
   ]
  },
  {
   "cell_type": "code",
   "execution_count": 36,
   "metadata": {},
   "outputs": [],
   "source": [
    "def square_root(val, tol=1e-4):\n",
    "    \"\"\" This is a docstring. Here I would explain what the square_root() function does. (It calculates the square root. Duh.)\n",
    "\n",
    "    :param a: The value whose square root you want to calculate.\n",
    "    :type a: float\n",
    "    :param tol: The tolerance of the solver. Smaller tolerance leads to higher precision. Default: 1e-4.\n",
    "    :type tol: float\n",
    "    \n",
    "    :rtype: float\n",
    "\n",
    "\n",
    "    :Example:\n",
    "\n",
    "      >>> value = square_root(4)\n",
    "      >>> print(value)\n",
    "      2.0\n",
    "    \"\"\"\n",
    "    # Define the initial guess and initialize the new guess and counter variables\n",
    "    guess = val*0.5\n",
    "    guess_new = 0.01\n",
    "    counter = 0\n",
    "\n",
    "    # Execute \"Newton's\" algorithm for calculating the square root\n",
    "    while ((guess-guess_new)/guess_new > tol):\n",
    "        # Update the guess to the new value as the loop proceeds\n",
    "        if (counter>0):\n",
    "            guess = guess_new\n",
    "        guess_new = 0.5*(guess + val/guess)\n",
    "        counter = counter + 1\n",
    "    return guess_new"
   ]
  },
  {
   "cell_type": "markdown",
   "metadata": {},
   "source": [
    "(Side note: RST syntax is great once it's been processed, but if you'd like your documentation to be more inherently legible, you might want to install the [napoleon plugin](https://sphinxcontrib-napoleon.readthedocs.io/en/latest/). This allows for Numpy-style docstrings.)\n",
    "\n",
    "With the docstrings written, we can finally compile and look at the output!"
   ]
  },
  {
   "cell_type": "code",
   "execution_count": 31,
   "metadata": {},
   "outputs": [
    {
     "data": {
      "text/html": [
       "\n",
       "        <iframe\n",
       "            width=\"1000\"\n",
       "            height=\"1000\"\n",
       "            src=\"doc/build/html/test_functions.html\"\n",
       "            frameborder=\"0\"\n",
       "            allowfullscreen\n",
       "        ></iframe>\n",
       "        "
      ],
      "text/plain": [
       "<IPython.lib.display.IFrame at 0x10d2b7110>"
      ]
     },
     "execution_count": 31,
     "metadata": {},
     "output_type": "execute_result"
    }
   ],
   "source": [
    "from IPython.display import IFrame\n",
    "IFrame('doc/build/html/test_functions.html', width=1000, height=1000)"
   ]
  },
  {
   "cell_type": "markdown",
   "metadata": {},
   "source": [
    "## The End...?\n",
    "\n",
    "Nope! This is all the most basic usage of sphinx (and honestly, I'm not good at documentation or using sphinx either...). Additionally, comments and API are the **absolute bare minimum** for well-documented code. What else is there? \n",
    "\n",
    "1. **Examples** - show users how to use functions, modules, etc.\n",
    "2. **User guides** - Websites, wikis, tutorials, whatever you want!\n",
    "3. **Code readability** - Use of whitespace, ***logically named variables***, and well organized functions can go a long way to making your code readable.\n",
    "    * Seriously, naming all your variables with one or two letter names (x, y, z, ab) makes you the ***worst human being***.\n",
    "4. **Style guides** - Following style guides ensures that your code will at the very least be familiar and less confusing to anyone reading it.\n",
    "5. **Tests** - ensure that updates do not break functionality that already exists. \n",
    "6. Other automated documentation packages! (Doxygen, javadoc, ...)\n",
    "\n",
    "![Image](https://imgs.xkcd.com/comics/code_quality.png)\n",
    "\n",
    "\n",
    "## Resources: \n",
    "\n",
    "1. [The Hacker Within Berkeley](https://github.com/thehackerwithin/berkeley/tree/master/code_examples/documentation)\n",
    "2. [(Previous) The Hacker Within Illinois](https://github.com/thehackerwithin/illinois/blob/master/sphinx/sphinx.pdf)\n",
    "3. [Chapter 19 of Professor Huff's book!](https://proquest.safaribooksonline.com/redirect?redirectpage=%2f9781491901564&key=&sessionid=0b83a886-3f3e-4a9c-9951-c422a4da7570&ref=Undefined&oref=-&a=&xmlid=9781491901564&reader=html&displaygrbooks=0&isbn=9781491901564&action=1&portal=proquest)\n",
    "4. [Doxygen](http://www.doxygen.org/)\n",
    "5. [sphinx](http://www.sphinx-doc.org/en/master/)\n",
    "\n"
   ]
  },
  {
   "cell_type": "code",
   "execution_count": null,
   "metadata": {},
   "outputs": [],
   "source": []
  }
 ],
 "metadata": {
  "kernelspec": {
   "display_name": "Python 2",
   "language": "python",
   "name": "python2"
  },
  "language_info": {
   "codemirror_mode": {
    "name": "ipython",
    "version": 2
   },
   "file_extension": ".py",
   "mimetype": "text/x-python",
   "name": "python",
   "nbconvert_exporter": "python",
   "pygments_lexer": "ipython2",
   "version": "2.7.14"
  }
 },
 "nbformat": 4,
 "nbformat_minor": 2
}
